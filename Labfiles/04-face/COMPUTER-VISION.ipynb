{
 "cells": [
  {
   "cell_type": "code",
   "execution_count": null,
   "metadata": {
    "dotnet_interactive": {
     "language": "csharp"
    },
    "polyglot_notebook": {
     "kernelName": "csharp"
    },
    "vscode": {
     "languageId": "polyglot-notebook"
    }
   },
   "outputs": [],
   "source": [
    "#r \"nuget: Azure.AI.Vision.ImageAnalysis, 1.0.0-beta.2\""
   ]
  },
  {
   "cell_type": "code",
   "execution_count": 14,
   "metadata": {
    "dotnet_interactive": {
     "language": "csharp"
    },
    "polyglot_notebook": {
     "kernelName": "csharp"
    },
    "vscode": {
     "languageId": "polyglot-notebook"
    }
   },
   "outputs": [],
   "source": [
    "// Import namespaces\n",
    "using System;\n",
    "using System.IO;\n",
    "\n",
    "using Azure;\n",
    "using Azure.AI.Vision.ImageAnalysis;"
   ]
  },
  {
   "cell_type": "code",
   "execution_count": 15,
   "metadata": {
    "dotnet_interactive": {
     "language": "csharp"
    },
    "polyglot_notebook": {
     "kernelName": "csharp"
    },
    "vscode": {
     "languageId": "polyglot-notebook"
    }
   },
   "outputs": [],
   "source": [
    "// Get your Azure AI Services endpoint and key from the Azure portal\n",
    "var aiSvcEndpoint = \"YOUR_AZURE_AI_SERVICES_ENDPOINT\";\n",
    "var aiSvcKey = \"YOUR_AZURE_AI_SERVICES_KEY\";\n",
    "\n",
    "string imageFile = \"C-Sharp/computer-vision/images/people.jpg\";"
   ]
  },
  {
   "cell_type": "code",
   "execution_count": 16,
   "metadata": {
    "dotnet_interactive": {
     "language": "csharp"
    },
    "polyglot_notebook": {
     "kernelName": "csharp"
    },
    "vscode": {
     "languageId": "polyglot-notebook"
    }
   },
   "outputs": [],
   "source": [
    "// Authenticate Azure AI Vision client\n",
    "var client = new ImageAnalysisClient(\n",
    "    new Uri(aiSvcEndpoint),\n",
    "    new AzureKeyCredential(aiSvcKey)\n",
    ");"
   ]
  },
  {
   "cell_type": "code",
   "execution_count": 17,
   "metadata": {
    "dotnet_interactive": {
     "language": "csharp"
    },
    "polyglot_notebook": {
     "kernelName": "csharp"
    },
    "vscode": {
     "languageId": "polyglot-notebook"
    }
   },
   "outputs": [],
   "source": [
    "static void AnalyzeImage(string imageFile, ImageAnalysisClient client)\n",
    "{\n",
    "    Console.WriteLine($\"\\nAnalyzing {imageFile} \\n\");\n",
    "\n",
    "    // Use a file stream to pass the image data to the analyze call\n",
    "    using FileStream stream = new FileStream(imageFile, FileMode.Open);\n",
    "\n",
    "    // Detect people in the image.\n",
    "    ImageAnalysisResult result = client.Analyze(\n",
    "        BinaryData.FromStream(stream),\n",
    "        VisualFeatures.People);\n",
    "\n",
    "    // Print people detection results to the console\n",
    "    Console.WriteLine($\"Image analysis results:\");\n",
    "    Console.WriteLine($\" Metadata: Model: {result.ModelVersion} Image dimensions: {result.Metadata.Width} x {result.Metadata.Height}\");\n",
    "    Console.WriteLine($\" People:\");\n",
    "    foreach (DetectedPerson person in result.People.Values)\n",
    "    {\n",
    "        Console.WriteLine($\"   Person: Bounding box {person.BoundingBox.ToString()}, Confidence {person.Confidence:F4}\");\n",
    "    }\n",
    "}"
   ]
  },
  {
   "cell_type": "code",
   "execution_count": null,
   "metadata": {
    "dotnet_interactive": {
     "language": "csharp"
    },
    "polyglot_notebook": {
     "kernelName": "csharp"
    },
    "vscode": {
     "languageId": "polyglot-notebook"
    }
   },
   "outputs": [],
   "source": [
    "AnalyzeImage(imageFile, client);"
   ]
  }
 ],
 "metadata": {
  "kernelspec": {
   "display_name": ".NET (C#)",
   "language": "C#",
   "name": ".net-csharp"
  },
  "language_info": {
   "name": "csharp"
  },
  "polyglot_notebook": {
   "kernelInfo": {
    "defaultKernelName": "csharp",
    "items": [
     {
      "aliases": [],
      "name": "csharp"
     }
    ]
   }
  }
 },
 "nbformat": 4,
 "nbformat_minor": 2
}
