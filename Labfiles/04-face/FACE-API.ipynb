{
 "cells": [
  {
   "cell_type": "code",
   "execution_count": null,
   "metadata": {
    "dotnet_interactive": {
     "language": "csharp"
    },
    "polyglot_notebook": {
     "kernelName": "csharp"
    },
    "vscode": {
     "languageId": "polyglot-notebook"
    }
   },
   "outputs": [],
   "source": [
    "#r \"nuget: Microsoft.Azure.CognitiveServices.Vision.Face, 2.8.0-preview.3\""
   ]
  },
  {
   "cell_type": "code",
   "execution_count": 8,
   "metadata": {
    "dotnet_interactive": {
     "language": "csharp"
    },
    "polyglot_notebook": {
     "kernelName": "csharp"
    },
    "vscode": {
     "languageId": "polyglot-notebook"
    }
   },
   "outputs": [],
   "source": [
    " // Import namespaces\n",
    "using System.IO;\n",
    "using System.Drawing;\n",
    "\n",
    "using Microsoft.Azure.CognitiveServices.Vision.Face;\n",
    "using Microsoft.Azure.CognitiveServices.Vision.Face.Models;"
   ]
  },
  {
   "cell_type": "code",
   "execution_count": 13,
   "metadata": {
    "vscode": {
     "languageId": "polyglot-notebook"
    }
   },
   "outputs": [],
   "source": [
    "string cogSvcEndpoint = \"YOUR_AZURE_AI_SERVICES_ENDPOINT\";\n",
    "string cogSvcKey = \"YOUR_AZURE_AI_SERVICES_KEY\";\n",
    "\n",
    "// string imageFile = \"C-Sharp/face-api/images/people.jpg\";\n",
    "string imageFile = \"C-Sharp/face-api/images/people2.jpg\";\n",
    "// string imageFile = \"C-Sharp/face-api/images/person1.jpg\";\n",
    "// string imageFile = \"C-Sharp/face-api/images/person2.jpg\";\n"
   ]
  },
  {
   "cell_type": "code",
   "execution_count": 14,
   "metadata": {
    "vscode": {
     "languageId": "polyglot-notebook"
    }
   },
   "outputs": [],
   "source": [
    "// Authenticate Face client\n",
    "ApiKeyServiceClientCredentials credentials = new ApiKeyServiceClientCredentials(cogSvcKey);\n",
    "FaceClient client = new FaceClient(credentials)\n",
    "{\n",
    "    Endpoint = cogSvcEndpoint\n",
    "};"
   ]
  },
  {
   "cell_type": "code",
   "execution_count": 15,
   "metadata": {
    "vscode": {
     "languageId": "polyglot-notebook"
    }
   },
   "outputs": [],
   "source": [
    "static async Task DetectFaces(string imageFile, FaceClient client)\n",
    "{\n",
    "    Console.WriteLine($\"Detecting faces in {imageFile}\");\n",
    "\n",
    "    // Specify facial features to be retrieved\n",
    "    IList<FaceAttributeType> features = new FaceAttributeType[]\n",
    "    {\n",
    "        FaceAttributeType.Occlusion,\n",
    "        FaceAttributeType.Blur,\n",
    "        FaceAttributeType.Glasses\n",
    "    };\n",
    "\n",
    "    // Get faces\n",
    "    // Get faces\n",
    "    using (var imageData = File.OpenRead(imageFile))\n",
    "    {    \n",
    "        var detected_faces = await client.Face.DetectWithStreamAsync(imageData, returnFaceAttributes: features, returnFaceId: false);\n",
    "\n",
    "        if (detected_faces.Count() > 0)\n",
    "        {\n",
    "            Console.WriteLine($\"{detected_faces.Count()} faces detected.\");\n",
    "\n",
    "            // Prepare image for drawing\n",
    "            Image image = Image.FromFile(imageFile);\n",
    "            Graphics graphics = Graphics.FromImage(image);\n",
    "            Pen pen = new Pen(Color.LightGreen, 3);\n",
    "            Font font = new Font(\"Arial\", 4);\n",
    "            SolidBrush brush = new SolidBrush(Color.White);\n",
    "            int faceCount=0;\n",
    "\n",
    "            // Draw and annotate each face\n",
    "            foreach (var face in detected_faces)\n",
    "            {\n",
    "                faceCount++;\n",
    "                Console.WriteLine($\"\\nFace number {faceCount}\");\n",
    "                \n",
    "                // Get face properties\n",
    "                Console.WriteLine($\" - Mouth Occluded: {face.FaceAttributes.Occlusion.MouthOccluded}\");\n",
    "                Console.WriteLine($\" - Eye Occluded: {face.FaceAttributes.Occlusion.EyeOccluded}\");\n",
    "                Console.WriteLine($\" - Blur: {face.FaceAttributes.Blur.BlurLevel}\");\n",
    "                Console.WriteLine($\" - Glasses: {face.FaceAttributes.Glasses}\");\n",
    "\n",
    "                // Draw and annotate face\n",
    "                var r = face.FaceRectangle;\n",
    "                Rectangle rect = new Rectangle(r.Left, r.Top, r.Width, r.Height);\n",
    "                graphics.DrawRectangle(pen, rect);\n",
    "                string annotation = $\"Face number {faceCount}\";\n",
    "                graphics.DrawString(annotation,font,brush,r.Left, r.Top);\n",
    "            }\n",
    "\n",
    "            // Save annotated image\n",
    "            String output_file = \"detected_faces.jpg\";\n",
    "            image.Save(output_file);\n",
    "            Console.WriteLine(\" Results saved in \" + output_file);   \n",
    "        }\n",
    "    }\n",
    "}"
   ]
  },
  {
   "cell_type": "code",
   "execution_count": null,
   "metadata": {
    "vscode": {
     "languageId": "polyglot-notebook"
    }
   },
   "outputs": [],
   "source": [
    "await DetectFaces(imageFile, client);"
   ]
  }
 ],
 "metadata": {
  "kernelspec": {
   "display_name": ".NET (C#)",
   "language": "C#",
   "name": ".net-csharp"
  },
  "language_info": {
   "name": "csharp"
  },
  "polyglot_notebook": {
   "kernelInfo": {
    "defaultKernelName": "csharp",
    "items": [
     {
      "aliases": [],
      "name": "csharp"
     }
    ]
   }
  }
 },
 "nbformat": 4,
 "nbformat_minor": 2
}
