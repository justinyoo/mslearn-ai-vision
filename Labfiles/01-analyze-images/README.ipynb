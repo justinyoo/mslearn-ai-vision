{
 "cells": [
  {
   "cell_type": "code",
   "execution_count": null,
   "metadata": {
    "dotnet_interactive": {
     "language": "csharp"
    },
    "polyglot_notebook": {
     "kernelName": "csharp"
    },
    "vscode": {
     "languageId": "polyglot-notebook"
    }
   },
   "outputs": [],
   "source": [
    "#r \"nuget: Azure.AI.Vision.ImageAnalysis, 1.0.0-beta.2\""
   ]
  },
  {
   "cell_type": "code",
   "execution_count": 16,
   "metadata": {
    "dotnet_interactive": {
     "language": "csharp"
    },
    "polyglot_notebook": {
     "kernelName": "csharp"
    },
    "vscode": {
     "languageId": "polyglot-notebook"
    }
   },
   "outputs": [],
   "source": [
    "// Import namespaces\n",
    "using System.Drawing;\n",
    "using System.IO;\n",
    "using System.Net.Http;\n",
    "using System.Net.Http.Headers;\n",
    "using System.Text.Json;\n",
    "using System.Threading.Tasks;\n",
    "\n",
    "using Azure;\n",
    "using Azure.AI.Vision.ImageAnalysis;"
   ]
  },
  {
   "cell_type": "code",
   "execution_count": 8,
   "metadata": {
    "dotnet_interactive": {
     "language": "csharp"
    },
    "polyglot_notebook": {
     "kernelName": "csharp"
    },
    "vscode": {
     "languageId": "polyglot-notebook"
    }
   },
   "outputs": [],
   "source": [
    "// Get your Azure AI Services endpoint and key from the Azure portal\n",
    "var aiSvcEndpoint = \"YOUR_AZURE_AI_SERVICES_ENDPOINT\";\n",
    "var aiSvcKey = \"YOUR_AZURE_AI_SERVICES_KEY\";\n",
    "\n",
    "// var imageFile = \"C-Sharp/image-analysis/images/building.jpg\";\n",
    "var imageFile = \"C-Sharp/image-analysis/images/person.jpg\";\n",
    "// var imageFile = \"C-Sharp/image-analysis/images/street.jpg\";"
   ]
  },
  {
   "cell_type": "code",
   "execution_count": 4,
   "metadata": {
    "dotnet_interactive": {
     "language": "csharp"
    },
    "polyglot_notebook": {
     "kernelName": "csharp"
    },
    "vscode": {
     "languageId": "polyglot-notebook"
    }
   },
   "outputs": [],
   "source": [
    "// Authenticate Azure AI Vision client\n",
    "var client = new ImageAnalysisClient(\n",
    "    new Uri(aiSvcEndpoint),\n",
    "    new AzureKeyCredential(aiSvcKey)\n",
    ");"
   ]
  },
  {
   "cell_type": "code",
   "execution_count": 9,
   "metadata": {
    "dotnet_interactive": {
     "language": "csharp"
    },
    "polyglot_notebook": {
     "kernelName": "csharp"
    },
    "vscode": {
     "languageId": "polyglot-notebook"
    }
   },
   "outputs": [],
   "source": [
    "static void GetImageCaptions(string imageFile, ImageAnalysisClient client)\n",
    "{\n",
    "    Console.WriteLine($\"\\nAnalyzing {imageFile} \\n\");\n",
    "\n",
    "    // Use a file stream to pass the image data to the analyze call\n",
    "    using FileStream stream = new FileStream(imageFile, FileMode.Open);\n",
    "\n",
    "    // Get result with specified features to be retrieved\n",
    "    ImageAnalysisResult result = client.Analyze(\n",
    "        BinaryData.FromStream(stream),\n",
    "        VisualFeatures.Caption | \n",
    "        VisualFeatures.DenseCaptions |\n",
    "        VisualFeatures.Objects |\n",
    "        VisualFeatures.Tags |\n",
    "        VisualFeatures.People);\n",
    "    \n",
    "    // Display analysis results\n",
    "    // Get image captions\n",
    "    if (result.Caption.Text != null)\n",
    "    {\n",
    "        Console.WriteLine(\" Caption:\");\n",
    "        Console.WriteLine($\"   \\\"{result.Caption.Text}\\\", Confidence {result.Caption.Confidence:0.00}\\n\");\n",
    "    }\n",
    "\n",
    "    // Get image dense captions\n",
    "    Console.WriteLine(\" Dense Captions:\");\n",
    "    foreach (DenseCaption denseCaption in result.DenseCaptions.Values)\n",
    "    {\n",
    "        Console.WriteLine($\"   Caption: '{denseCaption.Text}', Confidence: {denseCaption.Confidence:0.00}\");\n",
    "    }\n",
    "}\n"
   ]
  },
  {
   "cell_type": "code",
   "execution_count": null,
   "metadata": {
    "dotnet_interactive": {
     "language": "csharp"
    },
    "polyglot_notebook": {
     "kernelName": "csharp"
    },
    "vscode": {
     "languageId": "polyglot-notebook"
    }
   },
   "outputs": [],
   "source": [
    "GetImageCaptions(imageFile, client);"
   ]
  },
  {
   "cell_type": "code",
   "execution_count": 10,
   "metadata": {
    "dotnet_interactive": {
     "language": "csharp"
    },
    "polyglot_notebook": {
     "kernelName": "csharp"
    },
    "vscode": {
     "languageId": "polyglot-notebook"
    }
   },
   "outputs": [],
   "source": [
    "static void GetImageTags(string imageFile, ImageAnalysisClient client)\n",
    "{\n",
    "    Console.WriteLine($\"\\nAnalyzing {imageFile} \\n\");\n",
    "\n",
    "    // Use a file stream to pass the image data to the analyze call\n",
    "    using FileStream stream = new FileStream(imageFile, FileMode.Open);\n",
    "\n",
    "    // Get result with specified features to be retrieved\n",
    "    ImageAnalysisResult result = client.Analyze(\n",
    "        BinaryData.FromStream(stream),\n",
    "        VisualFeatures.Caption | \n",
    "        VisualFeatures.DenseCaptions |\n",
    "        VisualFeatures.Objects |\n",
    "        VisualFeatures.Tags |\n",
    "        VisualFeatures.People);\n",
    "    \n",
    "    // Get image tags\n",
    "    if (result.Tags.Values.Count > 0)\n",
    "    {\n",
    "        Console.WriteLine($\"\\n Tags:\");\n",
    "        foreach (DetectedTag tag in result.Tags.Values)\n",
    "        {\n",
    "            Console.WriteLine($\"   '{tag.Name}', Confidence: {tag.Confidence:F2}\");\n",
    "        }\n",
    "    }\n",
    "}\n"
   ]
  },
  {
   "cell_type": "code",
   "execution_count": null,
   "metadata": {
    "dotnet_interactive": {
     "language": "csharp"
    },
    "polyglot_notebook": {
     "kernelName": "csharp"
    },
    "vscode": {
     "languageId": "polyglot-notebook"
    }
   },
   "outputs": [],
   "source": [
    "GetImageTags(imageFile, client);"
   ]
  },
  {
   "cell_type": "code",
   "execution_count": 11,
   "metadata": {
    "dotnet_interactive": {
     "language": "csharp"
    },
    "polyglot_notebook": {
     "kernelName": "csharp"
    },
    "vscode": {
     "languageId": "polyglot-notebook"
    }
   },
   "outputs": [],
   "source": [
    "static void GetObjectsInImage(string imageFile, ImageAnalysisClient client)\n",
    "{\n",
    "    Console.WriteLine($\"\\nAnalyzing {imageFile} \\n\");\n",
    "\n",
    "    // Use a file stream to pass the image data to the analyze call\n",
    "    using FileStream stream = new FileStream(imageFile, FileMode.Open);\n",
    "\n",
    "    // Get result with specified features to be retrieved\n",
    "    ImageAnalysisResult result = client.Analyze(\n",
    "        BinaryData.FromStream(stream),\n",
    "        VisualFeatures.Caption | \n",
    "        VisualFeatures.DenseCaptions |\n",
    "        VisualFeatures.Objects |\n",
    "        VisualFeatures.Tags |\n",
    "        VisualFeatures.People);\n",
    "\n",
    "    // Get objects in the image\n",
    "    if (result.Objects.Values.Count > 0)\n",
    "    {\n",
    "        Console.WriteLine(\" Objects:\");\n",
    "\n",
    "        // Prepare image for drawing\n",
    "        stream.Close();\n",
    "        System.Drawing.Image image = System.Drawing.Image.FromFile(imageFile);\n",
    "        Graphics graphics = Graphics.FromImage(image);\n",
    "        Pen pen = new Pen(Color.Cyan, 3);\n",
    "        Font font = new Font(\"Arial\", 16);\n",
    "        SolidBrush brush = new SolidBrush(Color.WhiteSmoke);\n",
    "\n",
    "        foreach (DetectedObject detectedObject in result.Objects.Values)\n",
    "        {\n",
    "            Console.WriteLine($\"   \\\"{detectedObject.Tags[0].Name}\\\"\");\n",
    "\n",
    "            // Draw object bounding box\n",
    "            var r = detectedObject.BoundingBox;\n",
    "            Rectangle rect = new Rectangle(r.X, r.Y, r.Width, r.Height);\n",
    "            graphics.DrawRectangle(pen, rect);\n",
    "            graphics.DrawString(detectedObject.Tags[0].Name,font,brush,(float)r.X, (float)r.Y);\n",
    "        }\n",
    "\n",
    "        // Save annotated image\n",
    "        String output_file = \"objects.jpg\";\n",
    "        image.Save(output_file);\n",
    "        Console.WriteLine(\"  Results saved in \" + output_file + \"\\n\");\n",
    "    }\n",
    "}\n"
   ]
  },
  {
   "cell_type": "code",
   "execution_count": null,
   "metadata": {
    "dotnet_interactive": {
     "language": "csharp"
    },
    "polyglot_notebook": {
     "kernelName": "csharp"
    },
    "vscode": {
     "languageId": "polyglot-notebook"
    }
   },
   "outputs": [],
   "source": [
    "GetObjectsInImage(imageFile, client);"
   ]
  },
  {
   "cell_type": "code",
   "execution_count": 12,
   "metadata": {
    "dotnet_interactive": {
     "language": "csharp"
    },
    "polyglot_notebook": {
     "kernelName": "csharp"
    },
    "vscode": {
     "languageId": "polyglot-notebook"
    }
   },
   "outputs": [],
   "source": [
    "static void GetPeopleInImage(string imageFile, ImageAnalysisClient client)\n",
    "{\n",
    "    Console.WriteLine($\"\\nAnalyzing {imageFile} \\n\");\n",
    "\n",
    "    // Use a file stream to pass the image data to the analyze call\n",
    "    using FileStream stream = new FileStream(imageFile, FileMode.Open);\n",
    "\n",
    "    // Get result with specified features to be retrieved\n",
    "    ImageAnalysisResult result = client.Analyze(\n",
    "        BinaryData.FromStream(stream),\n",
    "        VisualFeatures.Caption | \n",
    "        VisualFeatures.DenseCaptions |\n",
    "        VisualFeatures.Objects |\n",
    "        VisualFeatures.Tags |\n",
    "        VisualFeatures.People);\n",
    "    \n",
    "    // Get people in the image\n",
    "    if (result.People.Values.Count > 0)\n",
    "    {\n",
    "        Console.WriteLine($\" People:\");\n",
    "\n",
    "        // Prepare image for drawing\n",
    "        System.Drawing.Image image = System.Drawing.Image.FromFile(imageFile);\n",
    "        Graphics graphics = Graphics.FromImage(image);\n",
    "        Pen pen = new Pen(Color.Cyan, 3);\n",
    "        Font font = new Font(\"Arial\", 16);\n",
    "        SolidBrush brush = new SolidBrush(Color.WhiteSmoke);\n",
    "\n",
    "        foreach (DetectedPerson person in result.People.Values)\n",
    "        {\n",
    "            // Draw object bounding box\n",
    "            var r = person.BoundingBox;\n",
    "            Rectangle rect = new Rectangle(r.X, r.Y, r.Width, r.Height);\n",
    "            graphics.DrawRectangle(pen, rect);\n",
    "            \n",
    "            // Return the confidence of the person detected\n",
    "            //Console.WriteLine($\"   Bounding box {person.BoundingBox.ToString()}, Confidence: {person.Confidence:F2}\");\n",
    "        }\n",
    "\n",
    "        // Save annotated image\n",
    "        String output_file = \"persons.jpg\";\n",
    "        image.Save(output_file);\n",
    "        Console.WriteLine(\"  Results saved in \" + output_file + \"\\n\");\n",
    "    }\n",
    "}\n"
   ]
  },
  {
   "cell_type": "code",
   "execution_count": null,
   "metadata": {
    "dotnet_interactive": {
     "language": "csharp"
    },
    "polyglot_notebook": {
     "kernelName": "csharp"
    },
    "vscode": {
     "languageId": "polyglot-notebook"
    }
   },
   "outputs": [],
   "source": [
    "GetPeopleInImage(imageFile, client);"
   ]
  },
  {
   "cell_type": "code",
   "execution_count": 18,
   "metadata": {
    "vscode": {
     "languageId": "polyglot-notebook"
    }
   },
   "outputs": [],
   "source": [
    "static async Task BackgroundForeground(string imageFile, string endpoint, string key)\n",
    "{\n",
    "    // Remove the background from the image or generate a foreground matte\n",
    "    Console.WriteLine($\" Background removal:\");\n",
    "    // Define the API version and mode\n",
    "    string apiVersion = \"2023-02-01-preview\";\n",
    "    string mode = \"backgroundRemoval\"; // Can be \"foregroundMatting\" or \"backgroundRemoval\"\n",
    "\n",
    "    string url = $\"computervision/imageanalysis:segment?api-version={apiVersion}&mode={mode}\";\n",
    "\n",
    "    // Make the REST call\n",
    "    using (var client = new HttpClient())\n",
    "    {\n",
    "        var contentType = new MediaTypeWithQualityHeaderValue(\"application/json\");\n",
    "        client.BaseAddress = new Uri(endpoint);\n",
    "        client.DefaultRequestHeaders.Accept.Add(contentType);\n",
    "        client.DefaultRequestHeaders.Add(\"Ocp-Apim-Subscription-Key\", key);\n",
    "\n",
    "        var data = new\n",
    "        {\n",
    "            url = $\"https://github.com/MicrosoftLearning/mslearn-ai-vision/blob/main/Labfiles/01-analyze-images/{imageFile}?raw=true\"\n",
    "        };\n",
    "\n",
    "        var jsonData = JsonSerializer.Serialize(data);\n",
    "        var contentData = new StringContent(jsonData, Encoding.UTF8, contentType);\n",
    "        var response = await client.PostAsync(url, contentData);\n",
    "\n",
    "        if (response.IsSuccessStatusCode) {\n",
    "            File.WriteAllBytes(\"background.png\", response.Content.ReadAsByteArrayAsync().Result);\n",
    "            Console.WriteLine(\"  Results saved in background.png\\n\");\n",
    "        }\n",
    "        else\n",
    "        {\n",
    "            Console.WriteLine($\"API error: {response.ReasonPhrase} - Check your body url, key, and endpoint.\");\n",
    "        }\n",
    "    }\n",
    "}\n"
   ]
  },
  {
   "cell_type": "code",
   "execution_count": null,
   "metadata": {
    "vscode": {
     "languageId": "polyglot-notebook"
    }
   },
   "outputs": [],
   "source": [
    "await BackgroundForeground(imageFile, aiSvcEndpoint, aiSvcKey);"
   ]
  }
 ],
 "metadata": {
  "kernelspec": {
   "display_name": ".NET (C#)",
   "language": "C#",
   "name": ".net-csharp"
  },
  "language_info": {
   "name": "csharp"
  },
  "polyglot_notebook": {
   "kernelInfo": {
    "defaultKernelName": "csharp",
    "items": [
     {
      "aliases": [],
      "name": "csharp"
     }
    ]
   }
  }
 },
 "nbformat": 4,
 "nbformat_minor": 2
}
